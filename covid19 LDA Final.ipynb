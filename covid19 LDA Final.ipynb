{
 "cells": [
  {
   "cell_type": "code",
   "execution_count": null,
   "metadata": {},
   "outputs": [],
   "source": [
    "import numpy as np\n",
    "import pandas as pd\n",
    "import os\n",
    "import json\n",
    "import glob\n",
    "import sys"
   ]
  },
  {
   "cell_type": "code",
   "execution_count": null,
   "metadata": {},
   "outputs": [],
   "source": [
    "from IPython.display import FileLink\n",
    "FileLink(r'paperFrame2.csv')"
   ]
  },
  {
   "cell_type": "code",
   "execution_count": null,
   "metadata": {},
   "outputs": [],
   "source": [
    "import ktrain\n",
    "ktrain.text.preprocessor.detect_lang = ktrain.text.textutils.detect_lang\n",
    "df = pd.read_csv('paperFrame2.csv')\n",
    "df.head()\n",
    "texts = df[\"body_text\"]\n",
    "tm = ktrain.text.get_topic_model(texts, n_topics=None, n_features=10000)"
   ]
  },
  {
   "cell_type": "code",
   "execution_count": null,
   "metadata": {},
   "outputs": [],
   "source": [
    "tm.print_topics()\n",
    "tm.build(texts, threshold=0.25)"
   ]
  },
  {
   "cell_type": "code",
   "execution_count": null,
   "metadata": {},
   "outputs": [],
   "source": [
    "texts = tm.filter(texts)\n",
    "df = tm.filter(df)"
   ]
  },
  {
   "cell_type": "code",
   "execution_count": null,
   "metadata": {
    "scrolled": true
   },
   "outputs": [],
   "source": [
    "tm.visualize_documents(doc_topics=tm.get_doctopics())"
   ]
  },
  {
   "cell_type": "markdown",
   "metadata": {},
   "source": [
    "What is known about transmission, incubation, and environmental stability? *"
   ]
  },
  {
   "cell_type": "code",
   "execution_count": null,
   "metadata": {},
   "outputs": [],
   "source": [
    "transmission_results = tm.search('transmission', case_sensitive=False)\n",
    "incubation_results = tm.search('incubation', case_sensitive=False)\n",
    "environmental_results = tm.search('environmental stability', case_sensitive=False)"
   ]
  },
  {
   "cell_type": "code",
   "execution_count": null,
   "metadata": {},
   "outputs": [],
   "source": [
    "threshold = .80\n",
    "\n",
    "transmission_topic_ids = {doc[3] for doc in transmission_results if doc[2]>threshold}\n",
    "incubation_topic_ids = {doc[3] for doc in incubation_results if doc[2]>threshold}\n",
    "environmental_topic_ids = {doc[3] for doc in environmental_results if doc[2]>threshold}\n",
    "\n",
    "t_topics = transmission_topic_ids.copy()\n",
    "t_topics.update(incubation_topic_ids)\n",
    "t_topics.update(environmental_topic_ids)\n"
   ]
  },
  {
   "cell_type": "code",
   "execution_count": null,
   "metadata": {},
   "outputs": [],
   "source": [
    "\n",
    "tm.visualize_documents(doc_topics=tm.get_doctopics(t_topics))\n"
   ]
  },
  {
   "cell_type": "code",
   "execution_count": null,
   "metadata": {},
   "outputs": [],
   "source": [
    "docs = tm.get_docs(topic_ids=t_topics, rank=True)\n",
    "print(\"TOTAL_NUM_OF_DOCS: %s\" % len(docs))\n",
    "\n",
    "print(\"##################################\")\n",
    "\n",
    "for t in t_topics:\n",
    "    docs = tm.get_docs(topic_ids=[t], rank=True)\n",
    "    print(\"NUM_OF_DOCS: %s\" % len(docs))\n",
    "    if(len(docs)==0): continue\n",
    "    doc = docs[1]\n",
    "    print('TOPIC_ID: %s' % (doc[3]))\n",
    "    print('TOPIC: %s' % (tm.topics[t]))\n",
    "    print('DOC_ID: %s'  % (doc[1]))\n",
    "    print('TOPIC SCORE: %s '% (doc[2]))\n",
    "    print('TEXT: %s' % (doc[0][0:400]))\n",
    "    \n",
    "    \n",
    "    print(\"##################################\")\n"
   ]
  },
  {
   "cell_type": "code",
   "execution_count": null,
   "metadata": {},
   "outputs": [],
   "source": [
    "tm.train_recommender()\n"
   ]
  },
  {
   "cell_type": "code",
   "execution_count": null,
   "metadata": {},
   "outputs": [],
   "source": [
    "text = \"What is known about covid-19 transmission?\"\n",
    "for i, doc in enumerate(tm.recommend(text=text, n=5)):\n",
    "    print('RESULT #%s'% (i+1))\n",
    "    print('TEXT:\\n\\t%s' % (\" \".join(doc[0].split()[:500])))\n",
    "    print()"
   ]
  },
  {
   "cell_type": "code",
   "execution_count": null,
   "metadata": {},
   "outputs": [],
   "source": [
    "text = \"What is known about covid-19 incubation period?\"\n",
    "for i, doc in enumerate(tm.recommend(text=text, n=5)):\n",
    "    print('RESULT #%s'% (i+1))\n",
    "    print('TEXT:\\n\\t%s' % (doc[0]))\n",
    "    print()"
   ]
  },
  {
   "cell_type": "code",
   "execution_count": null,
   "metadata": {},
   "outputs": [],
   "source": [
    "text = \"What is known about covid-19 environmental stability?\"\n",
    "for i, doc in enumerate(tm.recommend(text=text, n=5)):\n",
    "    print('RESULT #%s'% (i+1))\n",
    "    print('TEXT:\\n\\t%s' % (doc[0]))\n",
    "    print()"
   ]
  },
  {
   "cell_type": "code",
   "execution_count": null,
   "metadata": {},
   "outputs": [],
   "source": []
  },
  {
   "cell_type": "code",
   "execution_count": null,
   "metadata": {},
   "outputs": [],
   "source": []
  },
  {
   "cell_type": "markdown",
   "metadata": {},
   "source": [
    "What do we know about COVID-19 risk factors? *"
   ]
  },
  {
   "cell_type": "code",
   "execution_count": null,
   "metadata": {},
   "outputs": [],
   "source": [
    "risks_factors = tm.search('risks factors', case_sensitive=False)"
   ]
  },
  {
   "cell_type": "code",
   "execution_count": null,
   "metadata": {},
   "outputs": [],
   "source": [
    "threshold = .80\n",
    "\n",
    "risks_factors_ids = {doc[3] for doc in risks_factors if doc[2]>threshold}\n",
    "\n",
    "t_topics1 = risks_factors_ids.copy()"
   ]
  },
  {
   "cell_type": "code",
   "execution_count": null,
   "metadata": {},
   "outputs": [],
   "source": [
    "\n",
    "tm.visualize_documents(doc_topics=tm.get_doctopics(t_topics1))\n"
   ]
  },
  {
   "cell_type": "code",
   "execution_count": null,
   "metadata": {},
   "outputs": [],
   "source": [
    "docs = tm.get_docs(topic_ids=t_topics1, rank=True)\n",
    "print(\"TOTAL_NUM_OF_DOCS: %s\" % len(docs))\n",
    "\n",
    "print(\"##################################\")\n",
    "\n",
    "for t in t_topics1:\n",
    "    docs = tm.get_docs(topic_ids=[t], rank=True)\n",
    "    print(\"NUM_OF_DOCS: %s\" % len(docs))\n",
    "    if(len(docs)==0): continue\n",
    "    doc = docs[1]\n",
    "    print('TOPIC_ID: %s' % (doc[3]))\n",
    "    print('TOPIC: %s' % (tm.topics[t]))\n",
    "    print('DOC_ID: %s'  % (doc[1]))\n",
    "    print('TOPIC SCORE: %s '% (doc[2]))\n",
    "    print('TEXT: %s' % (doc[0][0:400]))\n",
    "    \n",
    "    \n",
    "    print(\"##################################\")\n"
   ]
  },
  {
   "cell_type": "code",
   "execution_count": null,
   "metadata": {},
   "outputs": [],
   "source": [
    "tm.train_recommender()\n"
   ]
  },
  {
   "cell_type": "code",
   "execution_count": null,
   "metadata": {},
   "outputs": [],
   "source": [
    "text = \"What do we know about COVID-19 risk factors?\"\n",
    "for i, doc in enumerate(tm.recommend(text=text, n=5)):\n",
    "    print('RESULT #%s'% (i+1))\n",
    "    print('TEXT:\\n\\t%s' % (\" \".join(doc[0].split()[:500])))\n",
    "    print()"
   ]
  },
  {
   "cell_type": "code",
   "execution_count": null,
   "metadata": {},
   "outputs": [],
   "source": []
  },
  {
   "cell_type": "code",
   "execution_count": null,
   "metadata": {},
   "outputs": [],
   "source": []
  },
  {
   "cell_type": "markdown",
   "metadata": {},
   "source": [
    "What do we know about vaccines and therapeutics? *"
   ]
  },
  {
   "cell_type": "code",
   "execution_count": null,
   "metadata": {},
   "outputs": [],
   "source": [
    "vaccines = tm.search('vaccines', case_sensitive=False)\n",
    "therapeutics = tm.search('therapeutics', case_sensitive=False)"
   ]
  },
  {
   "cell_type": "code",
   "execution_count": null,
   "metadata": {},
   "outputs": [],
   "source": [
    "threshold = .80\n",
    "\n",
    "vaccines_ids = {doc[3] for doc in vaccines if doc[2]>threshold}\n",
    "therapeutics_ids = {doc[3] for doc in therapeutics if doc[2]>threshold}\n",
    "\n",
    "t_topics2 = vaccines_ids.copy()\n",
    "t_topics2.update(therapeutics_ids)\n"
   ]
  },
  {
   "cell_type": "code",
   "execution_count": null,
   "metadata": {},
   "outputs": [],
   "source": [
    "\n",
    "tm.visualize_documents(doc_topics=tm.get_doctopics(t_topics2))\n"
   ]
  },
  {
   "cell_type": "code",
   "execution_count": null,
   "metadata": {},
   "outputs": [],
   "source": [
    "docs = tm.get_docs(topic_ids=t_topics2, rank=True)\n",
    "print(\"TOTAL_NUM_OF_DOCS: %s\" % len(docs))\n",
    "\n",
    "print(\"##################################\")\n",
    "\n",
    "for t in t_topics2:\n",
    "    docs = tm.get_docs(topic_ids=[t], rank=True)\n",
    "    print(\"NUM_OF_DOCS: %s\" % len(docs))\n",
    "    if(len(docs)==0): continue\n",
    "    doc = docs[1]\n",
    "    print('TOPIC_ID: %s' % (doc[3]))\n",
    "    print('TOPIC: %s' % (tm.topics[t]))\n",
    "    print('DOC_ID: %s'  % (doc[1]))\n",
    "    print('TOPIC SCORE: %s '% (doc[2]))\n",
    "    print('TEXT: %s' % (doc[0][0:400]))\n",
    "    \n",
    "    \n",
    "    print(\"##################################\")\n"
   ]
  },
  {
   "cell_type": "code",
   "execution_count": null,
   "metadata": {},
   "outputs": [],
   "source": [
    "tm.train_recommender()\n"
   ]
  },
  {
   "cell_type": "code",
   "execution_count": null,
   "metadata": {},
   "outputs": [],
   "source": [
    "text = \"What do we know about vaccines and therapeutics?\"\n",
    "for i, doc in enumerate(tm.recommend(text=text, n=5)):\n",
    "    print('RESULT #%s'% (i+1))\n",
    "    print('TEXT:\\n\\t%s' % (\" \".join(doc[0].split()[:500])))\n",
    "    print()"
   ]
  },
  {
   "cell_type": "code",
   "execution_count": null,
   "metadata": {},
   "outputs": [],
   "source": []
  },
  {
   "cell_type": "code",
   "execution_count": null,
   "metadata": {},
   "outputs": [],
   "source": []
  },
  {
   "cell_type": "markdown",
   "metadata": {},
   "source": [
    "What do we know about virus genetics, origin, and evolution? *"
   ]
  },
  {
   "cell_type": "code",
   "execution_count": null,
   "metadata": {},
   "outputs": [],
   "source": [
    "genetics = tm.search('genetics', case_sensitive=False)\n",
    "origin = tm.search('origin', case_sensitive=False)\n",
    "evolution = tm.search('evolution', case_sensitive=False)"
   ]
  },
  {
   "cell_type": "code",
   "execution_count": null,
   "metadata": {},
   "outputs": [],
   "source": [
    "threshold = .80\n",
    "\n",
    "genetics_ids = {doc[3] for doc in genetics if doc[2]>threshold}\n",
    "origin_ids = {doc[3] for doc in origin if doc[2]>threshold}\n",
    "evolution_ids = {doc[3] for doc in evolution if doc[2]>threshold}\n",
    "\n",
    "t_topics3 = genetics_ids.copy()\n",
    "t_topics3.update(origin_ids)\n",
    "t_topics3.update(evolution_ids)\n"
   ]
  },
  {
   "cell_type": "code",
   "execution_count": null,
   "metadata": {},
   "outputs": [],
   "source": [
    "\n",
    "tm.visualize_documents(doc_topics=tm.get_doctopics(t_topics3))\n"
   ]
  },
  {
   "cell_type": "code",
   "execution_count": null,
   "metadata": {},
   "outputs": [],
   "source": [
    "docs = tm.get_docs(topic_ids=t_topics3, rank=True)\n",
    "print(\"TOTAL_NUM_OF_DOCS: %s\" % len(docs))\n",
    "\n",
    "print(\"##################################\")\n",
    "\n",
    "for t in t_topics3:\n",
    "    docs = tm.get_docs(topic_ids=[t], rank=True)\n",
    "    print(\"NUM_OF_DOCS: %s\" % len(docs))\n",
    "    if(len(docs)==0): continue\n",
    "    doc = docs[1]\n",
    "    print('TOPIC_ID: %s' % (doc[3]))\n",
    "    print('TOPIC: %s' % (tm.topics[t]))\n",
    "    print('DOC_ID: %s'  % (doc[1]))\n",
    "    print('TOPIC SCORE: %s '% (doc[2]))\n",
    "    print('TEXT: %s' % (doc[0][0:400]))\n",
    "    \n",
    "    \n",
    "    print(\"##################################\")\n"
   ]
  },
  {
   "cell_type": "code",
   "execution_count": null,
   "metadata": {},
   "outputs": [],
   "source": [
    "tm.train_recommender()\n"
   ]
  },
  {
   "cell_type": "code",
   "execution_count": null,
   "metadata": {},
   "outputs": [],
   "source": [
    "text = \"What do we know about virus genetics, origin, and evolution?\"\n",
    "for i, doc in enumerate(tm.recommend(text=text, n=5)):\n",
    "    print('RESULT #%s'% (i+1))\n",
    "    print('TEXT:\\n\\t%s' % (\" \".join(doc[0].split()[:500])))\n",
    "    print()"
   ]
  },
  {
   "cell_type": "code",
   "execution_count": null,
   "metadata": {},
   "outputs": [],
   "source": []
  },
  {
   "cell_type": "code",
   "execution_count": null,
   "metadata": {},
   "outputs": [],
   "source": []
  },
  {
   "cell_type": "markdown",
   "metadata": {},
   "source": [
    "What do we know about diagnostics and surveillance? *"
   ]
  },
  {
   "cell_type": "code",
   "execution_count": null,
   "metadata": {},
   "outputs": [],
   "source": [
    "diagnostics = tm.search('diagnostics', case_sensitive=False)\n",
    "surveillance = tm.search('surveillance', case_sensitive=False)"
   ]
  },
  {
   "cell_type": "code",
   "execution_count": null,
   "metadata": {},
   "outputs": [],
   "source": [
    "threshold = .80\n",
    "\n",
    "diagnostics_ids = {doc[3] for doc in diagnostics if doc[2]>threshold}\n",
    "surveillance_ids = {doc[3] for doc in surveillance if doc[2]>threshold}\n",
    "\n",
    "t_topics4 = diagnostics_ids.copy()\n",
    "t_topics4.update(surveillance_ids)"
   ]
  },
  {
   "cell_type": "code",
   "execution_count": null,
   "metadata": {},
   "outputs": [],
   "source": [
    "\n",
    "tm.visualize_documents(doc_topics=tm.get_doctopics(t_topics4))\n"
   ]
  },
  {
   "cell_type": "code",
   "execution_count": null,
   "metadata": {},
   "outputs": [],
   "source": [
    "docs = tm.get_docs(topic_ids=t_topics4, rank=True)\n",
    "print(\"TOTAL_NUM_OF_DOCS: %s\" % len(docs))\n",
    "\n",
    "print(\"##################################\")\n",
    "\n",
    "for t in t_topics4:\n",
    "    docs = tm.get_docs(topic_ids=[t], rank=True)\n",
    "    print(\"NUM_OF_DOCS: %s\" % len(docs))\n",
    "    if(len(docs)==0): continue\n",
    "    doc = docs[1]\n",
    "    print('TOPIC_ID: %s' % (doc[3]))\n",
    "    print('TOPIC: %s' % (tm.topics[t]))\n",
    "    print('DOC_ID: %s'  % (doc[1]))\n",
    "    print('TOPIC SCORE: %s '% (doc[2]))\n",
    "    print('TEXT: %s' % (doc[0][0:400]))\n",
    "    \n",
    "    \n",
    "    print(\"##################################\")\n"
   ]
  },
  {
   "cell_type": "code",
   "execution_count": null,
   "metadata": {},
   "outputs": [],
   "source": [
    "tm.train_recommender()\n"
   ]
  },
  {
   "cell_type": "code",
   "execution_count": null,
   "metadata": {},
   "outputs": [],
   "source": [
    "text = \"What do we know about diagnostics and surveillance?\"\n",
    "for i, doc in enumerate(tm.recommend(text=text, n=5)):\n",
    "    print('RESULT #%s'% (i+1))\n",
    "    print('TEXT:\\n\\t%s' % (\" \".join(doc[0].split()[:500])))\n",
    "    print()"
   ]
  },
  {
   "cell_type": "code",
   "execution_count": null,
   "metadata": {},
   "outputs": [],
   "source": []
  },
  {
   "cell_type": "code",
   "execution_count": null,
   "metadata": {},
   "outputs": [],
   "source": []
  },
  {
   "cell_type": "markdown",
   "metadata": {},
   "source": [
    "What has been published about ethical and social science considerations? *"
   ]
  },
  {
   "cell_type": "code",
   "execution_count": null,
   "metadata": {},
   "outputs": [],
   "source": [
    "ethical_considerations = tm.search('ethical considerations', case_sensitive=False)\n",
    "social_science_considerations = tm.search('social science considerations', case_sensitive=False)"
   ]
  },
  {
   "cell_type": "code",
   "execution_count": null,
   "metadata": {},
   "outputs": [],
   "source": [
    "threshold = .80\n",
    "\n",
    "ethical_considerations_ids = {doc[3] for doc in ethical_considerations if doc[2]>threshold}\n",
    "social_science_considerations_ids = {doc[3] for doc in social_science_considerations if doc[2]>threshold}\n",
    "\n",
    "t_topics5 = ethical_considerations_ids.copy()\n",
    "t_topics5.update(social_science_considerations_ids)"
   ]
  },
  {
   "cell_type": "code",
   "execution_count": null,
   "metadata": {},
   "outputs": [],
   "source": [
    "\n",
    "tm.visualize_documents(doc_topics=tm.get_doctopics(t_topics5))\n"
   ]
  },
  {
   "cell_type": "code",
   "execution_count": null,
   "metadata": {},
   "outputs": [],
   "source": [
    "docs = tm.get_docs(topic_ids=t_topics5, rank=True)\n",
    "print(\"TOTAL_NUM_OF_DOCS: %s\" % len(docs))\n",
    "\n",
    "print(\"##################################\")\n",
    "\n",
    "for t in t_topics5:\n",
    "    docs = tm.get_docs(topic_ids=[t], rank=True)\n",
    "    print(\"NUM_OF_DOCS: %s\" % len(docs))\n",
    "    if(len(docs)==0): continue\n",
    "    doc = docs[1]\n",
    "    print('TOPIC_ID: %s' % (doc[3]))\n",
    "    print('TOPIC: %s' % (tm.topics[t]))\n",
    "    print('DOC_ID: %s'  % (doc[1]))\n",
    "    print('TOPIC SCORE: %s '% (doc[2]))\n",
    "    print('TEXT: %s' % (doc[0][0:400]))\n",
    "    \n",
    "    \n",
    "    print(\"##################################\")\n"
   ]
  },
  {
   "cell_type": "code",
   "execution_count": null,
   "metadata": {},
   "outputs": [],
   "source": [
    "tm.train_recommender()\n"
   ]
  },
  {
   "cell_type": "code",
   "execution_count": null,
   "metadata": {},
   "outputs": [],
   "source": [
    "text = \"What has been published about ethical and social science considerations?\"\n",
    "for i, doc in enumerate(tm.recommend(text=text, n=5)):\n",
    "    print('RESULT #%s'% (i+1))\n",
    "    print('TEXT:\\n\\t%s' % (\" \".join(doc[0].split()[:500])))\n",
    "    print()"
   ]
  },
  {
   "cell_type": "code",
   "execution_count": null,
   "metadata": {},
   "outputs": [],
   "source": []
  },
  {
   "cell_type": "code",
   "execution_count": null,
   "metadata": {},
   "outputs": [],
   "source": []
  },
  {
   "cell_type": "markdown",
   "metadata": {},
   "source": [
    "What has been published about medical care? *"
   ]
  },
  {
   "cell_type": "code",
   "execution_count": null,
   "metadata": {},
   "outputs": [],
   "source": [
    "medical_care = tm.search('medical care', case_sensitive=False)"
   ]
  },
  {
   "cell_type": "code",
   "execution_count": null,
   "metadata": {},
   "outputs": [],
   "source": [
    "threshold = .80\n",
    "\n",
    "medical_care_ids = {doc[3] for doc in medical_care if doc[2]>threshold}\n",
    "\n",
    "t_topics6 = medical_care_ids.copy()"
   ]
  },
  {
   "cell_type": "code",
   "execution_count": null,
   "metadata": {},
   "outputs": [],
   "source": [
    "\n",
    "tm.visualize_documents(doc_topics=tm.get_doctopics(t_topics6))\n"
   ]
  },
  {
   "cell_type": "code",
   "execution_count": null,
   "metadata": {},
   "outputs": [],
   "source": [
    "docs = tm.get_docs(topic_ids=t_topics6, rank=True)\n",
    "print(\"TOTAL_NUM_OF_DOCS: %s\" % len(docs))\n",
    "\n",
    "print(\"##################################\")\n",
    "\n",
    "for t in t_topics6:\n",
    "    docs = tm.get_docs(topic_ids=[t], rank=True)\n",
    "    print(\"NUM_OF_DOCS: %s\" % len(docs))\n",
    "    if(len(docs)==0): continue\n",
    "    doc = docs[1]\n",
    "    print('TOPIC_ID: %s' % (doc[3]))\n",
    "    print('TOPIC: %s' % (tm.topics[t]))\n",
    "    print('DOC_ID: %s'  % (doc[1]))\n",
    "    print('TOPIC SCORE: %s '% (doc[2]))\n",
    "    print('TEXT: %s' % (doc[0][0:400]))\n",
    "    \n",
    "    \n",
    "    print(\"##################################\")\n"
   ]
  },
  {
   "cell_type": "code",
   "execution_count": null,
   "metadata": {},
   "outputs": [],
   "source": [
    "tm.train_recommender()\n"
   ]
  },
  {
   "cell_type": "code",
   "execution_count": null,
   "metadata": {},
   "outputs": [],
   "source": [
    "text = \"What has been published about medical care?\"\n",
    "for i, doc in enumerate(tm.recommend(text=text, n=5)):\n",
    "    print('RESULT #%s'% (i+1))\n",
    "    print('TEXT:\\n\\t%s' % (\" \".join(doc[0].split()[:500])))\n",
    "    print()"
   ]
  },
  {
   "cell_type": "code",
   "execution_count": null,
   "metadata": {},
   "outputs": [],
   "source": []
  },
  {
   "cell_type": "code",
   "execution_count": null,
   "metadata": {},
   "outputs": [],
   "source": []
  },
  {
   "cell_type": "markdown",
   "metadata": {},
   "source": [
    "What do we know about non-pharmaceutical interventions? *"
   ]
  },
  {
   "cell_type": "code",
   "execution_count": null,
   "metadata": {},
   "outputs": [],
   "source": [
    "non_pharmaceutical_interventions = tm.search('non-pharmaceutical interventions', case_sensitive=False)"
   ]
  },
  {
   "cell_type": "code",
   "execution_count": null,
   "metadata": {},
   "outputs": [],
   "source": [
    "threshold = .80\n",
    "\n",
    "non_pharmaceutical_interventions_ids = {doc[3] for doc in non_pharmaceutical_interventions if doc[2]>threshold}\n",
    "\n",
    "t_topics7 = non_pharmaceutical_interventions_ids.copy()"
   ]
  },
  {
   "cell_type": "code",
   "execution_count": null,
   "metadata": {},
   "outputs": [],
   "source": [
    "\n",
    "tm.visualize_documents(doc_topics=tm.get_doctopics(t_topics7))\n"
   ]
  },
  {
   "cell_type": "code",
   "execution_count": null,
   "metadata": {},
   "outputs": [],
   "source": [
    "docs = tm.get_docs(topic_ids=t_topics7, rank=True)\n",
    "print(\"TOTAL_NUM_OF_DOCS: %s\" % len(docs))\n",
    "\n",
    "print(\"##################################\")\n",
    "\n",
    "for t in t_topics7:\n",
    "    docs = tm.get_docs(topic_ids=[t], rank=True)\n",
    "    print(\"NUM_OF_DOCS: %s\" % len(docs))\n",
    "    if(len(docs)==0): continue\n",
    "    doc = docs[1]\n",
    "    print('TOPIC_ID: %s' % (doc[3]))\n",
    "    print('TOPIC: %s' % (tm.topics[t]))\n",
    "    print('DOC_ID: %s'  % (doc[1]))\n",
    "    print('TOPIC SCORE: %s '% (doc[2]))\n",
    "    print('TEXT: %s' % (doc[0][0:400]))\n",
    "    \n",
    "    \n",
    "    print(\"##################################\")\n"
   ]
  },
  {
   "cell_type": "code",
   "execution_count": null,
   "metadata": {},
   "outputs": [],
   "source": [
    "tm.train_recommender()\n"
   ]
  },
  {
   "cell_type": "code",
   "execution_count": null,
   "metadata": {},
   "outputs": [],
   "source": [
    "text = \"What do we know about non-pharmaceutical interventions?\"\n",
    "for i, doc in enumerate(tm.recommend(text=text, n=5)):\n",
    "    print('RESULT #%s'% (i+1))\n",
    "    print('TEXT:\\n\\t%s' % (\" \".join(doc[0].split()[:500])))\n",
    "    print()"
   ]
  },
  {
   "cell_type": "code",
   "execution_count": null,
   "metadata": {},
   "outputs": [],
   "source": []
  },
  {
   "cell_type": "code",
   "execution_count": null,
   "metadata": {},
   "outputs": [],
   "source": []
  },
  {
   "cell_type": "markdown",
   "metadata": {},
   "source": [
    "What has been published about information sharing and inter-sectoral collaboration? *"
   ]
  },
  {
   "cell_type": "code",
   "execution_count": null,
   "metadata": {},
   "outputs": [],
   "source": [
    "information_sharing = tm.search('information sharing', case_sensitive=False)\n",
    "inter_sectoral_collaboration = tm.search('inter-sectoral collaboration', case_sensitive=False)"
   ]
  },
  {
   "cell_type": "code",
   "execution_count": null,
   "metadata": {},
   "outputs": [],
   "source": [
    "threshold = .80\n",
    "\n",
    "information_sharing_ids = {doc[3] for doc in information_sharing if doc[2]>threshold}\n",
    "inter_sectoral_collaboration_ids = {doc[3] for doc in inter_sectoral_collaboration if doc[2]>threshold}\n",
    "\n",
    "t_topics8 = information_sharing_ids.copy()\n",
    "t_topics8.update(inter_sectoral_collaboration_ids)"
   ]
  },
  {
   "cell_type": "code",
   "execution_count": null,
   "metadata": {},
   "outputs": [],
   "source": [
    "\n",
    "tm.visualize_documents(doc_topics=tm.get_doctopics(t_topics8))\n"
   ]
  },
  {
   "cell_type": "code",
   "execution_count": null,
   "metadata": {},
   "outputs": [],
   "source": [
    "docs = tm.get_docs(topic_ids=t_topics8, rank=True)\n",
    "print(\"TOTAL_NUM_OF_DOCS: %s\" % len(docs))\n",
    "\n",
    "print(\"##################################\")\n",
    "\n",
    "for t in t_topics8:\n",
    "    docs = tm.get_docs(topic_ids=[t], rank=True)\n",
    "    print(\"NUM_OF_DOCS: %s\" % len(docs))\n",
    "    if(len(docs)==0): continue\n",
    "    doc = docs[1]\n",
    "    print('TOPIC_ID: %s' % (doc[3]))\n",
    "    print('TOPIC: %s' % (tm.topics[t]))\n",
    "    print('DOC_ID: %s'  % (doc[1]))\n",
    "    print('TOPIC SCORE: %s '% (doc[2]))\n",
    "    print('TEXT: %s' % (doc[0][0:400]))\n",
    "    \n",
    "    \n",
    "    print(\"##################################\")\n"
   ]
  },
  {
   "cell_type": "code",
   "execution_count": null,
   "metadata": {},
   "outputs": [],
   "source": [
    "tm.train_recommender()\n"
   ]
  },
  {
   "cell_type": "code",
   "execution_count": null,
   "metadata": {},
   "outputs": [],
   "source": [
    "text = \"What has been published about information sharing and inter-sectoral collaboration?\"\n",
    "for i, doc in enumerate(tm.recommend(text=text, n=5)):\n",
    "    print('RESULT #%s'% (i+1))\n",
    "    print('TEXT:\\n\\t%s' % (\" \".join(doc[0].split()[:500])))\n",
    "    print()"
   ]
  },
  {
   "cell_type": "code",
   "execution_count": null,
   "metadata": {},
   "outputs": [],
   "source": []
  },
  {
   "cell_type": "code",
   "execution_count": null,
   "metadata": {},
   "outputs": [],
   "source": []
  },
  {
   "cell_type": "code",
   "execution_count": null,
   "metadata": {},
   "outputs": [],
   "source": []
  },
  {
   "cell_type": "code",
   "execution_count": null,
   "metadata": {},
   "outputs": [],
   "source": []
  },
  {
   "cell_type": "code",
   "execution_count": null,
   "metadata": {},
   "outputs": [],
   "source": []
  },
  {
   "cell_type": "code",
   "execution_count": null,
   "metadata": {},
   "outputs": [],
   "source": []
  }
 ],
 "metadata": {
  "kernelspec": {
   "display_name": "Python 3",
   "language": "python",
   "name": "python3"
  },
  "language_info": {
   "codemirror_mode": {
    "name": "ipython",
    "version": 3
   },
   "file_extension": ".py",
   "mimetype": "text/x-python",
   "name": "python",
   "nbconvert_exporter": "python",
   "pygments_lexer": "ipython3",
   "version": "3.7.6"
  }
 },
 "nbformat": 4,
 "nbformat_minor": 4
}
