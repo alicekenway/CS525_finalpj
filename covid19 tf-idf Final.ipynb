{
 "cells": [
  {
   "cell_type": "markdown",
   "metadata": {},
   "source": [
    "# COVID-19 risk factors using TF-IDF\n",
    "\n",
    "Approach:\n",
    "1. Take title, abstract and text to cteate documnet\n",
    "2. Simple preprocessing of documents\n",
    "3. Find key words for each document. \n",
    "4. Calculate key words for each query sentence.\n",
    "5. Calculate distance between query sentence and each document and select closest match as result\n"
   ]
  },
  {
   "cell_type": "markdown",
   "metadata": {},
   "source": [
    "# Load libraries"
   ]
  },
  {
   "cell_type": "code",
   "execution_count": null,
   "metadata": {},
   "outputs": [],
   "source": [
    "%matplotlib inline\n",
    "import pandas as pd\n",
    "import numpy as np\n",
    "import json\n",
    "import math\n",
    "import glob\n",
    "\n",
    "from sklearn.feature_extraction.text import CountVectorizer\n",
    "from sklearn.feature_extraction.text import TfidfTransformer\n",
    "from nltk.stem.snowball import SnowballStemmer\n",
    "from scipy.spatial import distance\n",
    "from matplotlib import pyplot as plt\n",
    "from wordcloud import WordCloud\n",
    "import ipywidgets as widgets\n",
    "\n",
    "from IPython.display import Image\n",
    "from IPython.display import display, HTML"
   ]
  },
  {
   "cell_type": "markdown",
   "metadata": {},
   "source": [
    "# Load data into DF\n",
    "In this part we will load data from both summary csv file and all availiable text / abstracts from additional .json files"
   ]
  },
  {
   "cell_type": "code",
   "execution_count": null,
   "metadata": {},
   "outputs": [],
   "source": [
    "root_dir = 'CORD-19-research-challenge'\n",
    "#root_dir = 'CORD-19-research-challenge/2020-03-13'"
   ]
  },
  {
   "cell_type": "code",
   "execution_count": null,
   "metadata": {
    "scrolled": false
   },
   "outputs": [],
   "source": [
    "df = pd.read_csv(f'{root_dir}/metadata.csv')\n",
    "doc_paths = glob.glob(f'{root_dir}/*/*/*.json')\n",
    "df.sha.fillna(\"\", inplace=True)\n",
    "\n",
    "#get text for articles that are available\n",
    "def get_text(sha):\n",
    "    if sha == \"\":\n",
    "        return \"\"\n",
    "    document_path = [x for x in doc_paths if sha in x]\n",
    "    if not document_path:\n",
    "        return \"\"\n",
    "    with open(document_path[0]) as f:\n",
    "        file = json.load(f)\n",
    "        full_text = []\n",
    "        #iterate over abstract and body part\n",
    "        for part in ['abstract', 'body_text']:\n",
    "            # iterate over each paragraph\n",
    "            for text_part in file[part]:\n",
    "                text = text_part['text']\n",
    "                # remove citations from each paragraph\n",
    "                for citation in text_part['cite_spans']:\n",
    "                    text = text.replace(citation['text'], \"\")\n",
    "                full_text.append(text)\n",
    "            \n",
    "        return str.join(' ', full_text)\n",
    "%time df['text'] = df.apply(lambda x: get_text(x.sha), axis=1)"
   ]
  },
  {
   "cell_type": "code",
   "execution_count": null,
   "metadata": {},
   "outputs": [],
   "source": [
    "df.head()\n",
    "df.to_csv('paper.csv', header=True, index=False)"
   ]
  },
  {
   "cell_type": "markdown",
   "metadata": {},
   "source": [
    "# Preprocessing data\n",
    "\n",
    "preprocess text. First change all letters to lower case, then we apply stemming and remove stopwords afterwards. \n",
    "\n",
    "(note) Lemmatization is also valid approach, and might increase accuracy later on, but it could also reduce accuracy. "
   ]
  },
  {
   "cell_type": "code",
   "execution_count": null,
   "metadata": {},
   "outputs": [],
   "source": [
    "analyzer = CountVectorizer().build_analyzer()\n",
    "stemmer = SnowballStemmer(\"english\")\n",
    "\n",
    "def preprocess(doc):\n",
    "    doc=doc.lower()\n",
    "    return str.join(\" \", [stemmer.stem(w) for w in analyzer(doc)])\n",
    "\n",
    "def preprocess_row(row):\n",
    "    text = str.join(' ', [str(row.title), str(row.abstract), str(row.text)])\n",
    "    return preprocess(text)\n",
    "\n",
    "%time df['preprocessed'] = df.apply(lambda x: preprocess_row(x), axis=1)"
   ]
  },
  {
   "cell_type": "markdown",
   "metadata": {},
   "source": [
    "# Apply TF-IDF\n",
    "Calculate number of words then use TF_IDF approach.\n",
    "- TF(w) = (Number of times term w appears in a document) / (Total number of terms in the document)\n",
    "- IDF(w) = log_e(Total number of documents / Number of documents with term w in it)"
   ]
  },
  {
   "cell_type": "code",
   "execution_count": null,
   "metadata": {
    "scrolled": false
   },
   "outputs": [],
   "source": [
    "cv = CountVectorizer(max_df=0.95, stop_words='english')\n",
    "%time word_count = cv.fit_transform(df.preprocessed)\n",
    "tfidf_tr = TfidfTransformer(smooth_idf=True, use_idf=True)\n",
    "%time tfidf_tr.fit(word_count)"
   ]
  },
  {
   "cell_type": "markdown",
   "metadata": {},
   "source": [
    "create word vector for all documents"
   ]
  },
  {
   "cell_type": "code",
   "execution_count": null,
   "metadata": {},
   "outputs": [],
   "source": [
    "def get_word_vector(document):\n",
    "    w_vector = tfidf_tr.transform(cv.transform([document]))\n",
    "    return w_vector \n",
    "\n",
    "%time df['word_vector'] = df.preprocessed.apply(get_word_vector)"
   ]
  },
  {
   "cell_type": "markdown",
   "metadata": {},
   "source": [
    "calcululate distance between each document and the searching document(phrase) using only words that were in query documnet(phrase)"
   ]
  },
  {
   "cell_type": "markdown",
   "metadata": {},
   "source": [
    "# Calculate distance between searching phrase and each document"
   ]
  },
  {
   "cell_type": "code",
   "execution_count": null,
   "metadata": {},
   "outputs": [],
   "source": [
    "def show_word_cloud(word_vector):\n",
    "    cloud = WordCloud(background_color='white',\n",
    "        width=500,\n",
    "        height=500,\n",
    "        max_words=20,\n",
    "        colormap='tab10',\n",
    "        prefer_horizontal=1.0)\n",
    "    word_frequency = dict(get_words_with_value(word_vector))\n",
    "    cloud.generate_from_frequencies(word_frequency)\n",
    "    plt.gca().imshow(cloud)\n",
    "    plt.gca().axis('off')\n",
    "\n",
    "feature_names = cv.get_feature_names()\n",
    "def get_words_with_value(w_vector):\n",
    "    return sorted([(feature_names[ind], val) for ind, val in zip(w_vector.indices, w_vector.data)], key=lambda x: x[1], reverse=True)"
   ]
  },
  {
   "cell_type": "code",
   "execution_count": null,
   "metadata": {},
   "outputs": [],
   "source": [
    "def calculate_distance_between_words_vectors(search_words_indices, search_vec, document_vector):\n",
    "    document_vec = document_vector[0, search_words_indices].toarray()\n",
    "    return distance.euclidean(search_vec, document_vec)\n",
    "\n",
    "def get_related_documents(text, number_of_documents):    \n",
    "    search_vector = get_word_vector(preprocess(text))\n",
    "    search_words_indices = search_vector.indices\n",
    "    search_vec = search_vector[0, search_words_indices].toarray()\n",
    "    distance_idx = df.apply(lambda x: calculate_distance_between_words_vectors(search_words_indices, search_vec, x.word_vector), axis=1)\n",
    "    relevant_indexes = distance_idx.sort_values().head(number_of_documents).index \n",
    "    result_columns = [\"title\", \"doi\", \"pmcid\", \"pubmed_id\", \"license\", \"authors\", \"word_vector\"]\n",
    "    result = df[result_columns].iloc[relevant_indexes].fillna(\"\")\n",
    "    return result"
   ]
  },
  {
   "cell_type": "markdown",
   "metadata": {},
   "source": [
    "# Results"
   ]
  },
  {
   "cell_type": "code",
   "execution_count": null,
   "metadata": {
    "_kg_hide-input": true,
    "_kg_hide-output": true
   },
   "outputs": [],
   "source": [
    "tasks = {\n",
    "    \"What is known about transmission, incubation, and environmental stability?\" :\n",
    "    [\n",
    "        \"Range of incubation periods for the disease in humans (and how this varies across age and health status) and how long individuals are contagious, even after recovery.\",\n",
    "        \"Prevalence of asymptomatic shedding and transmission (e.g., particularly children).\",\n",
    "        \"Seasonality of transmission.\",\n",
    "        \"Physical science of the coronavirus (e.g., charge distribution, adhesion to hydrophilic/phobic surfaces, environmental survival to inform decontamination efforts for affected areas and provide information about viral shedding).\",\n",
    "        \"Persistence and stability on a multitude of substrates and sources (e.g., nasal discharge, sputum, urine, fecal matter, blood).\",\n",
    "        \"Persistence of virus on surfaces of different materials (e,g., copper, stainless steel, plastic).\",\n",
    "        \"Natural history of the virus and shedding of it from an infected person\",\n",
    "        \"Implementation of diagnostics and products to improve clinical processes\",\n",
    "        \"Disease models, including animal models for infection, disease and transmission\",\n",
    "        \"Tools and studies to monitor phenotypic change and potential adaptation of the virus\",\n",
    "        \"Immune response and immunity\",\n",
    "        \"Effectiveness of movement control strategies to prevent secondary transmission in health care and community settings\",\n",
    "        \"Effectiveness of personal protective equipment (PPE) and its usefulness to reduce risk of transmission in health care and community settings\",\n",
    "        \"Role of the environment in transmission\"\n",
    "    ],\n",
    "    \"What do we know about COVID-19 risk factors?\":\n",
    "    [\n",
    "        \"Data on potential risks factors\",\n",
    "        \"Smoking, pre-existing pulmonary disease\",\n",
    "        \"Co-infections (determine whether co-existing respiratory/viral infections make the virus more transmissible or virulent) and other co-morbidities\",\n",
    "        \"Neonates and pregnant women\",\n",
    "        \"Socio-economic and behavioral factors to understand the economic impact of the virus and whether there were differences.\",\n",
    "        \"Transmission dynamics of the virus, including the basic reproductive number, incubation period, serial interval, modes of transmission and environmental factors\",\n",
    "        \"Severity of disease, including risk of fatality among symptomatic hospitalized patients, and high-risk patient groups\",\n",
    "        \"Susceptibility of populations\",\n",
    "        \"Public health mitigation measures that could be effective for control\"\n",
    "    ],\n",
    "    \"What do we know about virus genetics, origin, and evolution?\":\n",
    "    [\n",
    "        \"Real-time tracking of whole genomes and a mechanism for coordinating the rapid dissemination of that information to inform the development of diagnostics and therapeutics and to track variations of the virus over time.\",\n",
    "        \"Access to geographic and temporal diverse sample sets to understand geographic distribution and genomic differences, and determine whether there is more than one strain in circulation. Multi-lateral agreements such as the Nagoya Protocol could be leveraged.\",\n",
    "        \"Evidence that livestock could be infected (e.g., field surveillance, genetic sequencing, receptor binding) and serve as a reservoir after the epidemic appears to be over.\",\n",
    "        \"Evidence of whether farmers are infected, and whether farmers could have played a role in the origin.\",\n",
    "        \"Surveillance of mixed wildlife- livestock farms for SARS-CoV-2 and other coronaviruses in Southeast Asia.\",\n",
    "        \"Experimental infections to test host range for this pathogen.\",\n",
    "        \"Animal host(s) and any evidence of continued spill-over to humans\",\n",
    "        \"Socioeconomic and behavioral risk factors for this spill-over\",\n",
    "        \"Sustainable risk reduction strategies\"\n",
    "    ],\n",
    "    \"What do we know about vaccines and therapeutics?\":\n",
    "    [\n",
    "        \"Effectiveness of drugs being developed and tried to treat COVID-19 patients.\",\n",
    "        \"Clinical and bench trials to investigate less common viral inhibitors against COVID-19 such as naproxen, clarithromycin, and minocyclinethat that may exert effects on viral replication.\",\n",
    "        \"Methods evaluating potential complication of Antibody-Dependent Enhancement (ADE) in vaccine recipients.\",\n",
    "        \"Exploration of use of best animal models and their predictive value for a human vaccine.\",\n",
    "        \"Capabilities to discover a therapeutic (not vaccine) for the disease, and clinical effectiveness studies to discover therapeutics, to include antiviral agents.\",\n",
    "        \"Alternative models to aid decision makers in determining how to prioritize and distribute scarce, newly proven therapeutics as production ramps up. This could include identifying approaches for expanding production capacity to ensure equitable and timely distribution to populations in need.\",\n",
    "        \"Efforts targeted at a universal coronavirus vaccine.\",\n",
    "        \"Efforts to develop animal models and standardize challenge studies\",\n",
    "        \"Efforts to develop prophylaxis clinical studies and prioritize in healthcare workers\",\n",
    "        \"Approaches to evaluate risk for enhanced disease after vaccination\",\n",
    "        \"Assays to evaluate vaccine immune response and process development for vaccines, alongside suitable animal models [in conjunction with therapeutics],\",\n",
    "    ],\n",
    "    \"What do we know about diagnostics and surveillance?\":\n",
    "    [\n",
    "        \"How widespread current exposure is to be able to make immediate policy recommendations on mitigation measures. Denominators for testing and a mechanism for rapidly sharing that information, including demographics, to the extent possible. Sampling methods to determine asymptomatic disease (e.g., use of serosurveys (such as convalescent samples) and early detection of disease (e.g., use of screening of neutralizing antibodies such as ELISAs).\",\n",
    "        \"Efforts to increase capacity on existing diagnostic platforms and tap into existing surveillance platforms.\",\n",
    "        \"Recruitment, support, and coordination of local expertise and capacity (public, private—commercial, and non-profit, including academic), including legal, ethical, communications, and operational issues.\",\n",
    "        \"National guidance and guidelines about best practices to states (e.g., how states might leverage universities and private laboratories for testing purposes, communications to public health officials and the public).\",\n",
    "        \"Development of a point-of-care test (like a rapid influenza test) and rapid bed-side tests, recognizing the tradeoffs between speed, accessibility, and accuracy.\",\n",
    "        \"Rapid design and execution of targeted surveillance experiments calling for all potential testers using PCR in a defined area to start testing and report to a specific entity. These experiments could aid in collecting longitudinal samples, which are critical to understanding the impact of ad hoc local interventions (which also need to be recorded).\",\n",
    "        \"Separation of assay development issues from instruments, and the role of the private sector to help quickly migrate assays onto those devices.\",\n",
    "        \"Efforts to track the evolution of the virus (i.e., genetic drift or mutations) and avoid locking into specific reagents and surveillance/detection schemes.\",\n",
    "        \"Latency issues and when there is sufficient viral load to detect the pathogen, and understanding of what is needed in terms of biological and environmental sampling.\",\n",
    "        \"Use of diagnostics such as host response markers (e.g., cytokines) to detect early disease or predict severe disease progression, which would be important to understanding best clinical practice and efficacy of therapeutic interventions.\",\n",
    "        \"Policies and protocols for screening and testing.\",\n",
    "        \"Policies to mitigate the effects on supplies associated with mass testing, including swabs and reagents.\",\n",
    "        \"Technology roadmap for diagnostics.\",\n",
    "        \"Barriers to developing and scaling up new diagnostic tests (e.g., market forces), how future coalition and accelerator models (e.g., Coalition for Epidemic Preparedness Innovations) could provide critical funding for diagnostics, and opportunities for a streamlined regulatory environment.\",\n",
    "        \"New platforms and technology (e.g., CRISPR) to improve response times and employ more holistic approaches to COVID-19 and future diseases.\",\n",
    "        \"Coupling genomics and diagnostic testing on a large scale.\",\n",
    "        \"Enhance capabilities for rapid sequencing and bioinformatics to target regions of the genome that will allow specificity for a particular variant.\",\n",
    "        \"Enhance capacity (people, technology, data) for sequencing with advanced analytics for unknown pathogens, and explore capabilities for distinguishing naturally-occurring pathogens from intentional.\",\n",
    "        \"One Health surveillance of humans and potential sources of future spillover or ongoing exposure for this organism and future pathogens, including both evolutionary hosts (e.g., bats) and transmission hosts (e.g., heavily trafficked and farmed wildlife and domestic food and companion species), inclusive of environmental, demographic, and occupational risk factors.\"\n",
    "    ],\n",
    "    \"What do we know about non-pharmaceutical interventions?\":\n",
    "    [\n",
    "        \"Guidance on ways to scale up NPIs in a more coordinated way (e.g., establish funding, infrastructure and authorities to support real time, authoritative (qualified participants) collaboration with all states to gain consensus on consistent guidance and to mobilize resources to geographic areas where critical shortfalls are identified) to give us time to enhance our health care delivery system capacity to respond to an increase in cases.\",\n",
    "        \"Rapid design and execution of experiments to examine and compare NPIs currently being implemented. DHS Centers for Excellence could potentially be leveraged to conduct these experiments.\",\n",
    "        \"Rapid assessment of the likely efficacy of school closures, travel bans, bans on mass gatherings of various sizes, and other social distancing approaches.\",\n",
    "        \"Methods to control the spread in communities, barriers to compliance and how these vary among different populations.\",\n",
    "        \"Models of potential interventions to predict costs and benefits that take account of such factors as race, income, disability, age, geographic location, immigration status, housing status, employment status, and health insurance status.\",\n",
    "        \"Policy changes necessary to enable the compliance of individuals with limited resources and the underserved with NPIs.\",\n",
    "        \"Research on why people fail to comply with public health advice, even if they want to do so (e.g., social or financial costs may be too high).\",\n",
    "        \"Research on the economic impact of this or any pandemic. This would include identifying policy and programmatic alternatives that lessen/mitigate risks to critical government services, food distribution and supplies, access to critical household supplies, and access to health diagnoses, treatment, and needed care, regardless of ability to pay.\"\n",
    "    ],\n",
    "    \"What has been published about medical care?\":\n",
    "    [\n",
    "        \"Resources to support skilled nursing facilities and long term care facilities.\",\n",
    "        \"Mobilization of surge medical staff to address shortages in overwhelmed communities\",\n",
    "        \"Age-adjusted mortality data for Acute Respiratory Distress Syndrome (ARDS) with/without other organ failure – particularly for viral etiologies\",\n",
    "        \"Extracorporeal membrane oxygenation (ECMO) outcomes data of COVID-19 patients\",\n",
    "        \"Outcomes data for COVID-19 after mechanical ventilation adjusted for age.\",\n",
    "        \"Knowledge of the frequency, manifestations, and course of extrapulmonary manifestations of COVID-19, including, but not limited to, possible cardiomyopathy and cardiac arrest.\",\n",
    "        \"Application of regulatory standards (e.g., EUA, CLIA) and ability to adapt care to crisis standards of care level.\",\n",
    "        \"Approaches for encouraging and facilitating the production of elastomeric respirators, which can save thousands of N95 masks.\",\n",
    "        \"Best telemedicine practices, barriers and faciitators, and specific actions to remove/expand them within and across state boundaries.\",\n",
    "        \"Guidance on the simple things people can do at home to take care of sick people and manage disease.\",\n",
    "        \"Oral medications that might potentially work.\",\n",
    "        \"Use of AI in real-time health care delivery to evaluate interventions, risk factors, and outcomes in a way that could not be done manually.\",\n",
    "        \"Best practices and critical challenges and innovative solutions and technologies in hospital flow and organization, workforce protection, workforce allocation, community-based support resources, payment, and supply chain management to enhance capacity, efficiency, and outcomes.\",\n",
    "        \"Efforts to define the natural history of disease to inform clinical care, public health interventions, infection prevention control, transmission, and clinical trials\",\n",
    "        \"Efforts to develop a core clinical outcome set to maximize usability of data across a range of trials\",\n",
    "        \"Efforts to determine adjunctive and supportive interventions that can improve the clinical outcomes of infected patients (e.g. steroids, high flow oxygen)\"\n",
    "    ],\n",
    "    \"What has been published about information sharing and inter-sectoral collaboration?\":\n",
    "    [\n",
    "        \"Methods for coordinating data-gathering with standardized nomenclature.\",\n",
    "        \"Sharing response information among planners, providers, and others.\",\n",
    "        \"Understanding and mitigating barriers to information-sharing.\",\n",
    "        \"How to recruit, support, and coordinate local (non-Federal) expertise and capacity relevant to public health emergency response (public, private, commercial and non-profit, including academic).\",\n",
    "        \"Integration of federal/state/local public health surveillance systems.\",\n",
    "        \"Value of investments in baseline public health response infrastructure preparedness\",\n",
    "        \"Modes of communicating with target high-risk populations (elderly, health care workers).\",\n",
    "        \"Risk communication and guidelines that are easy to understand and follow (include targeting at risk populations’ families too).\",\n",
    "        \"Communication that indicates potential risk of disease to all population groups.\",\n",
    "        \"Misunderstanding around containment and mitigation.\",\n",
    "        \"Action plan to mitigate gaps and problems of inequity in the Nation’s public health capability, capacity, and funding to ensure all citizens in need are supported and can access information, surveillance, and treatment.\",\n",
    "        \"Measures to reach marginalized and disadvantaged populations.\",\n",
    "        \"Data systems and research priorities and agendas incorporate attention to the needs and circumstances of disadvantaged populations and underrepresented minorities.\",\n",
    "        \"Mitigating threats to incarcerated people from COVID-19, assuring access to information, prevention, diagnosis, and treatment.\",\n",
    "        \"Understanding coverage policies (barriers and opportunities) related to testing, treatment, and care\"\n",
    "    ],\n",
    "    \"What has been published about ethical and social science considerations?\":\n",
    "    [\n",
    "        \"Efforts to articulate and translate existing ethical principles and standards to salient issues in COVID-2019\",\n",
    "        \"Efforts to embed ethics across all thematic areas, engage with novel ethical issues that arise and coordinate to minimize duplication of oversight\",\n",
    "        \"Efforts to support sustained education, access, and capacity building in the area of ethics\",\n",
    "        \"Efforts to establish a team at WHO that will be integrated within multidisciplinary research and operational platforms and that will connect with existing and expanded global networks of social sciences.\",\n",
    "        \"Efforts to develop qualitative assessment frameworks to systematically collect information related to local barriers and enablers for the uptake and adherence to public health measures for prevention and control. This includes the rapid identification of the secondary impacts of these measures. (e.g. use of surgical masks, modification of health seeking behaviors for SRH, school closures)\",\n",
    "        \"Efforts to identify how the burden of responding to the outbreak and implementing public health measures affects the physical and psychological health of those providing care for Covid-19 patients and identify the immediate needs that must be addressed.\",\n",
    "        \"Efforts to identify the underlying drivers of fear, anxiety and stigma that fuel misinformation and rumor, particularly through social media.\",\n",
    "    ]\n",
    "}"
   ]
  },
  {
   "cell_type": "markdown",
   "metadata": {},
   "source": [
    "Helper functions for displaying everything"
   ]
  },
  {
   "cell_type": "code",
   "execution_count": null,
   "metadata": {
    "scrolled": false
   },
   "outputs": [],
   "source": [
    "def display_friendly_results(df_result):\n",
    "    display_columns = [\"title\", \"doi\", \"pmcid\", \"pubmed_id\", \"authors\"]\n",
    "    display(df_result[display_columns].reset_index(drop=True))\n",
    "    rows = math.ceil(len(df_result)/3)\n",
    "    plt.rcParams[\"figure.figsize\"] = (20,15)\n",
    "    for i in range(len(df_result)):\n",
    "        row = df_result.iloc[1]\n",
    "        plt.subplot(rows, 3, i+1)\n",
    "        show_word_cloud(row.word_vector)\n",
    "        plt.title(f'Paper {i}', fontsize=20)\n",
    "    plt.show()\n",
    "\n",
    "def display_topics_results(task):\n",
    "    for topic in tasks[task]:\n",
    "        display(HTML(f\"<h3>{topic}<h3>\"))\n",
    "        topic_result = get_related_documents(topic, 6)\n",
    "        display_friendly_results(topic_result)"
   ]
  },
  {
   "cell_type": "markdown",
   "metadata": {},
   "source": [
    "# What is known about transmission, incubation, and environmental stability?"
   ]
  },
  {
   "cell_type": "code",
   "execution_count": null,
   "metadata": {
    "_kg_hide-input": true,
    "_kg_hide-output": false,
    "scrolled": false
   },
   "outputs": [],
   "source": [
    "display_topics_results(\"What is known about transmission, incubation, and environmental stability?\")"
   ]
  },
  {
   "cell_type": "markdown",
   "metadata": {},
   "source": [
    "# What do we know about COVID-19 risk factors?"
   ]
  },
  {
   "cell_type": "code",
   "execution_count": null,
   "metadata": {
    "_kg_hide-input": true
   },
   "outputs": [],
   "source": [
    "display_topics_results(\"What do we know about COVID-19 risk factors?\")"
   ]
  },
  {
   "cell_type": "markdown",
   "metadata": {},
   "source": [
    "# What do we know about virus genetics, origin, and evolution?"
   ]
  },
  {
   "cell_type": "code",
   "execution_count": null,
   "metadata": {
    "_kg_hide-input": true
   },
   "outputs": [],
   "source": [
    "display_topics_results(\"What do we know about virus genetics, origin, and evolution?\")"
   ]
  },
  {
   "cell_type": "markdown",
   "metadata": {},
   "source": [
    "# What do we know about vaccines and therapeutics?"
   ]
  },
  {
   "cell_type": "code",
   "execution_count": null,
   "metadata": {
    "_kg_hide-input": true
   },
   "outputs": [],
   "source": [
    "display_topics_results(\"What do we know about vaccines and therapeutics?\")"
   ]
  },
  {
   "cell_type": "markdown",
   "metadata": {},
   "source": [
    "# What do we know about diagnostics and surveillance?"
   ]
  },
  {
   "cell_type": "code",
   "execution_count": null,
   "metadata": {
    "_kg_hide-input": true
   },
   "outputs": [],
   "source": [
    "display_topics_results(\"What do we know about diagnostics and surveillance?\")"
   ]
  },
  {
   "cell_type": "markdown",
   "metadata": {},
   "source": [
    "#  What do we know about non-pharmaceutical interventions?"
   ]
  },
  {
   "cell_type": "code",
   "execution_count": null,
   "metadata": {
    "_kg_hide-input": true
   },
   "outputs": [],
   "source": [
    "display_topics_results(\"What do we know about non-pharmaceutical interventions?\")"
   ]
  },
  {
   "cell_type": "markdown",
   "metadata": {},
   "source": [
    "# What has been published about medical care?"
   ]
  },
  {
   "cell_type": "code",
   "execution_count": null,
   "metadata": {
    "_kg_hide-input": true
   },
   "outputs": [],
   "source": [
    "display_topics_results(\"What has been published about medical care?\")"
   ]
  },
  {
   "cell_type": "markdown",
   "metadata": {},
   "source": [
    "# What has been published about information sharing and inter-sectoral collaboration?"
   ]
  },
  {
   "cell_type": "code",
   "execution_count": null,
   "metadata": {
    "_kg_hide-input": true
   },
   "outputs": [],
   "source": [
    "display_topics_results(\"What has been published about information sharing and inter-sectoral collaboration?\")"
   ]
  },
  {
   "cell_type": "markdown",
   "metadata": {},
   "source": [
    "# What has been published about ethical and social science considerations?"
   ]
  },
  {
   "cell_type": "code",
   "execution_count": null,
   "metadata": {
    "_kg_hide-input": true
   },
   "outputs": [],
   "source": [
    "display_topics_results(\"What has been published about ethical and social science considerations?\")"
   ]
  },
  {
   "cell_type": "markdown",
   "metadata": {},
   "source": [
    "# Search friendly widget\n",
    "it is not working in preview version, there are som results below."
   ]
  },
  {
   "cell_type": "code",
   "execution_count": null,
   "metadata": {
    "scrolled": false
   },
   "outputs": [],
   "source": [
    "def search():\n",
    "    def document_change(event):\n",
    "        if not (event['type'] == 'change' and event['name'] == 'value'):\n",
    "            return\n",
    "        render_tab(result_tab, results.iloc[doc_select.index])\n",
    "\n",
    "    def render_tab(tab, r):\n",
    "        paper_info = widgets.VBox([widgets.Label(f\"{x} : {r[x]}\") for x in dict(r) if x != \"word_vector\"])\n",
    "        keywords = widgets.Output()\n",
    "        with keywords:\n",
    "            plt.show(show_word_cloud(r.word_vector ))\n",
    "        similiar_doc = widgets.Label(\"TODO\")\n",
    "        tab.children = [paper_info, keywords, similiar_doc]\n",
    "        tab.set_title(0, \"Paper info\")\n",
    "        tab.set_title(1, \"Keywords\")\n",
    "        tab.set_title(2, \"Similiar documents\")\n",
    "\n",
    "    def run_search(b):\n",
    "        global results\n",
    "        if not search_text.value:\n",
    "            print(\"text cant be empty\")\n",
    "        else:\n",
    "            search_widgets.layout.display = 'none'\n",
    "            search_in_progress.layout.display = None\n",
    "            results = get_related_documents(search_text.value, number_of_ducuments.value)\n",
    "            doc_select.options = [x for x in results.title]\n",
    "            search_in_progress.layout.display = 'none'\n",
    "            result_widgets.layout.display = None\n",
    "\n",
    "    search_text = widgets.Text(\n",
    "        value='potential risks factors Neonates and pregnant women',\n",
    "        placeholder='Search text',\n",
    "        description='Search for',\n",
    "        disabled=False\n",
    "    )\n",
    "\n",
    "    number_of_ducuments = widgets.IntText(\n",
    "        value=5,\n",
    "        description='Any:',\n",
    "        disabled=False\n",
    "    )\n",
    "\n",
    "    run_button = widgets.Button(\n",
    "        description='Search',\n",
    "        disabled=False,\n",
    "        button_style='',\n",
    "        tooltip='Search',\n",
    "        icon='check'\n",
    "    )\n",
    "    run_button.on_click(run_search)\n",
    "    search_widgets = widgets.VBox([search_text, number_of_ducuments, run_button])\n",
    "\n",
    "    search_in_progress = widgets.Label(\"searching...\")\n",
    "    search_in_progress.layout.display = 'none'\n",
    "    \n",
    "    doc_select = widgets.Select(\n",
    "        options=[],\n",
    "        description='Results',\n",
    "        disabled=False\n",
    "    )\n",
    "    doc_select.layout.width = \"90%\"\n",
    "    doc_select.observe(document_change)\n",
    "    result_tab = widgets.Tab()\n",
    "    result_widgets = widgets.VBox([doc_select, result_tab])\n",
    "    result_widgets.layout.display = 'none'\n",
    "    return widgets.VBox([search_widgets, search_in_progress, result_widgets])\n",
    "search()"
   ]
  },
  {
   "cell_type": "code",
   "execution_count": null,
   "metadata": {},
   "outputs": [],
   "source": [
    "Image('/kaggle/input/search-results/1.PNG')"
   ]
  },
  {
   "cell_type": "code",
   "execution_count": null,
   "metadata": {},
   "outputs": [],
   "source": [
    "Image('/kaggle/input/search-results/2.PNG')"
   ]
  },
  {
   "cell_type": "code",
   "execution_count": null,
   "metadata": {},
   "outputs": [],
   "source": []
  }
 ],
 "metadata": {
  "kernelspec": {
   "display_name": "Python 3",
   "language": "python",
   "name": "python3"
  },
  "language_info": {
   "codemirror_mode": {
    "name": "ipython",
    "version": 3
   },
   "file_extension": ".py",
   "mimetype": "text/x-python",
   "name": "python",
   "nbconvert_exporter": "python",
   "pygments_lexer": "ipython3",
   "version": "3.7.6"
  },
  "widgets": {
   "application/vnd.jupyter.widget-state+json": {
    "state": {
     "05d4af096db648339ab88c2947afa36c": {
      "model_module": "@jupyter-widgets/base",
      "model_module_version": "1.2.0",
      "model_name": "LayoutModel",
      "state": {
       "_model_module": "@jupyter-widgets/base",
       "_model_module_version": "1.2.0",
       "_model_name": "LayoutModel",
       "_view_count": null,
       "_view_module": "@jupyter-widgets/base",
       "_view_module_version": "1.2.0",
       "_view_name": "LayoutView",
       "align_content": null,
       "align_items": null,
       "align_self": null,
       "border": null,
       "bottom": null,
       "display": null,
       "flex": null,
       "flex_flow": null,
       "grid_area": null,
       "grid_auto_columns": null,
       "grid_auto_flow": null,
       "grid_auto_rows": null,
       "grid_column": null,
       "grid_gap": null,
       "grid_row": null,
       "grid_template_areas": null,
       "grid_template_columns": null,
       "grid_template_rows": null,
       "height": null,
       "justify_content": null,
       "justify_items": null,
       "left": null,
       "margin": null,
       "max_height": null,
       "max_width": null,
       "min_height": null,
       "min_width": null,
       "object_fit": null,
       "object_position": null,
       "order": null,
       "overflow": null,
       "overflow_x": null,
       "overflow_y": null,
       "padding": null,
       "right": null,
       "top": null,
       "visibility": null,
       "width": null
      }
     },
     "29b911e8e83e49d083a70142de08ef71": {
      "model_module": "@jupyter-widgets/controls",
      "model_module_version": "1.5.0",
      "model_name": "LabelModel",
      "state": {
       "_dom_classes": [],
       "_model_module": "@jupyter-widgets/controls",
       "_model_module_version": "1.5.0",
       "_model_name": "LabelModel",
       "_view_count": null,
       "_view_module": "@jupyter-widgets/controls",
       "_view_module_version": "1.5.0",
       "_view_name": "LabelView",
       "description": "",
       "description_tooltip": null,
       "layout": "IPY_MODEL_2a5134f8818443baaf96ea53c2689c8d",
       "placeholder": "​",
       "style": "IPY_MODEL_331d0165c7f04a13897f185498e57891",
       "value": "searching..."
      }
     },
     "2a5134f8818443baaf96ea53c2689c8d": {
      "model_module": "@jupyter-widgets/base",
      "model_module_version": "1.2.0",
      "model_name": "LayoutModel",
      "state": {
       "_model_module": "@jupyter-widgets/base",
       "_model_module_version": "1.2.0",
       "_model_name": "LayoutModel",
       "_view_count": null,
       "_view_module": "@jupyter-widgets/base",
       "_view_module_version": "1.2.0",
       "_view_name": "LayoutView",
       "align_content": null,
       "align_items": null,
       "align_self": null,
       "border": null,
       "bottom": null,
       "display": "none",
       "flex": null,
       "flex_flow": null,
       "grid_area": null,
       "grid_auto_columns": null,
       "grid_auto_flow": null,
       "grid_auto_rows": null,
       "grid_column": null,
       "grid_gap": null,
       "grid_row": null,
       "grid_template_areas": null,
       "grid_template_columns": null,
       "grid_template_rows": null,
       "height": null,
       "justify_content": null,
       "justify_items": null,
       "left": null,
       "margin": null,
       "max_height": null,
       "max_width": null,
       "min_height": null,
       "min_width": null,
       "object_fit": null,
       "object_position": null,
       "order": null,
       "overflow": null,
       "overflow_x": null,
       "overflow_y": null,
       "padding": null,
       "right": null,
       "top": null,
       "visibility": null,
       "width": null
      }
     },
     "331d0165c7f04a13897f185498e57891": {
      "model_module": "@jupyter-widgets/controls",
      "model_module_version": "1.5.0",
      "model_name": "DescriptionStyleModel",
      "state": {
       "_model_module": "@jupyter-widgets/controls",
       "_model_module_version": "1.5.0",
       "_model_name": "DescriptionStyleModel",
       "_view_count": null,
       "_view_module": "@jupyter-widgets/base",
       "_view_module_version": "1.2.0",
       "_view_name": "StyleView",
       "description_width": ""
      }
     },
     "3c167f3087db4d84815768330c5e58e1": {
      "model_module": "@jupyter-widgets/controls",
      "model_module_version": "1.5.0",
      "model_name": "TextModel",
      "state": {
       "_dom_classes": [],
       "_model_module": "@jupyter-widgets/controls",
       "_model_module_version": "1.5.0",
       "_model_name": "TextModel",
       "_view_count": null,
       "_view_module": "@jupyter-widgets/controls",
       "_view_module_version": "1.5.0",
       "_view_name": "TextView",
       "continuous_update": true,
       "description": "Search for",
       "description_tooltip": null,
       "disabled": false,
       "layout": "IPY_MODEL_a4bbbdae59a3451ba8a3bd4aa2d6e50b",
       "placeholder": "Search text",
       "style": "IPY_MODEL_62f310203fac491abb15750ccbe18818",
       "value": "potential risks factors Neonates and pregnant women"
      }
     },
     "49e4444e6c0f483f928e634139bc9f96": {
      "model_module": "@jupyter-widgets/controls",
      "model_module_version": "1.5.0",
      "model_name": "TabModel",
      "state": {
       "_dom_classes": [],
       "_model_module": "@jupyter-widgets/controls",
       "_model_module_version": "1.5.0",
       "_model_name": "TabModel",
       "_titles": {},
       "_view_count": null,
       "_view_module": "@jupyter-widgets/controls",
       "_view_module_version": "1.5.0",
       "_view_name": "TabView",
       "box_style": "",
       "children": [],
       "layout": "IPY_MODEL_05d4af096db648339ab88c2947afa36c",
       "selected_index": 0
      }
     },
     "4b434e226ad448bca296bbbf45f02a7a": {
      "model_module": "@jupyter-widgets/controls",
      "model_module_version": "1.5.0",
      "model_name": "SelectModel",
      "state": {
       "_dom_classes": [],
       "_model_module": "@jupyter-widgets/controls",
       "_model_module_version": "1.5.0",
       "_model_name": "SelectModel",
       "_options_labels": [],
       "_view_count": null,
       "_view_module": "@jupyter-widgets/controls",
       "_view_module_version": "1.5.0",
       "_view_name": "SelectView",
       "description": "Results",
       "description_tooltip": null,
       "disabled": false,
       "index": null,
       "layout": "IPY_MODEL_9cc4e037fe134d00bd5cde008f133e44",
       "rows": 5,
       "style": "IPY_MODEL_4d6710b92c0b4f93abdb437c926dffb4"
      }
     },
     "4d6710b92c0b4f93abdb437c926dffb4": {
      "model_module": "@jupyter-widgets/controls",
      "model_module_version": "1.5.0",
      "model_name": "DescriptionStyleModel",
      "state": {
       "_model_module": "@jupyter-widgets/controls",
       "_model_module_version": "1.5.0",
       "_model_name": "DescriptionStyleModel",
       "_view_count": null,
       "_view_module": "@jupyter-widgets/base",
       "_view_module_version": "1.2.0",
       "_view_name": "StyleView",
       "description_width": ""
      }
     },
     "53890cfc8242419f9e9be20f6ea86a4c": {
      "model_module": "@jupyter-widgets/controls",
      "model_module_version": "1.5.0",
      "model_name": "VBoxModel",
      "state": {
       "_dom_classes": [],
       "_model_module": "@jupyter-widgets/controls",
       "_model_module_version": "1.5.0",
       "_model_name": "VBoxModel",
       "_view_count": null,
       "_view_module": "@jupyter-widgets/controls",
       "_view_module_version": "1.5.0",
       "_view_name": "VBoxView",
       "box_style": "",
       "children": [
        "IPY_MODEL_3c167f3087db4d84815768330c5e58e1",
        "IPY_MODEL_acb9eb1b1275499fbadab8c24db759d3",
        "IPY_MODEL_76524f0bee404e5fa54f52d6396bf7cf"
       ],
       "layout": "IPY_MODEL_fb6b089b8ba845b58e08f1b098dae637"
      }
     },
     "62f310203fac491abb15750ccbe18818": {
      "model_module": "@jupyter-widgets/controls",
      "model_module_version": "1.5.0",
      "model_name": "DescriptionStyleModel",
      "state": {
       "_model_module": "@jupyter-widgets/controls",
       "_model_module_version": "1.5.0",
       "_model_name": "DescriptionStyleModel",
       "_view_count": null,
       "_view_module": "@jupyter-widgets/base",
       "_view_module_version": "1.2.0",
       "_view_name": "StyleView",
       "description_width": ""
      }
     },
     "67e5f4ab99764db98599c8cd62dffeac": {
      "model_module": "@jupyter-widgets/base",
      "model_module_version": "1.2.0",
      "model_name": "LayoutModel",
      "state": {
       "_model_module": "@jupyter-widgets/base",
       "_model_module_version": "1.2.0",
       "_model_name": "LayoutModel",
       "_view_count": null,
       "_view_module": "@jupyter-widgets/base",
       "_view_module_version": "1.2.0",
       "_view_name": "LayoutView",
       "align_content": null,
       "align_items": null,
       "align_self": null,
       "border": null,
       "bottom": null,
       "display": null,
       "flex": null,
       "flex_flow": null,
       "grid_area": null,
       "grid_auto_columns": null,
       "grid_auto_flow": null,
       "grid_auto_rows": null,
       "grid_column": null,
       "grid_gap": null,
       "grid_row": null,
       "grid_template_areas": null,
       "grid_template_columns": null,
       "grid_template_rows": null,
       "height": null,
       "justify_content": null,
       "justify_items": null,
       "left": null,
       "margin": null,
       "max_height": null,
       "max_width": null,
       "min_height": null,
       "min_width": null,
       "object_fit": null,
       "object_position": null,
       "order": null,
       "overflow": null,
       "overflow_x": null,
       "overflow_y": null,
       "padding": null,
       "right": null,
       "top": null,
       "visibility": null,
       "width": null
      }
     },
     "76524f0bee404e5fa54f52d6396bf7cf": {
      "model_module": "@jupyter-widgets/controls",
      "model_module_version": "1.5.0",
      "model_name": "ButtonModel",
      "state": {
       "_dom_classes": [],
       "_model_module": "@jupyter-widgets/controls",
       "_model_module_version": "1.5.0",
       "_model_name": "ButtonModel",
       "_view_count": null,
       "_view_module": "@jupyter-widgets/controls",
       "_view_module_version": "1.5.0",
       "_view_name": "ButtonView",
       "button_style": "",
       "description": "Search",
       "disabled": false,
       "icon": "check",
       "layout": "IPY_MODEL_be998699ca174eb4908decf9f4632de9",
       "style": "IPY_MODEL_d7133e946d32477296018eb00c949d0d",
       "tooltip": "Search"
      }
     },
     "85b11e0ffe2b4a02942baf30b7d4bdae": {
      "model_module": "@jupyter-widgets/controls",
      "model_module_version": "1.5.0",
      "model_name": "VBoxModel",
      "state": {
       "_dom_classes": [],
       "_model_module": "@jupyter-widgets/controls",
       "_model_module_version": "1.5.0",
       "_model_name": "VBoxModel",
       "_view_count": null,
       "_view_module": "@jupyter-widgets/controls",
       "_view_module_version": "1.5.0",
       "_view_name": "VBoxView",
       "box_style": "",
       "children": [
        "IPY_MODEL_53890cfc8242419f9e9be20f6ea86a4c",
        "IPY_MODEL_29b911e8e83e49d083a70142de08ef71",
        "IPY_MODEL_8df950efe57e45c9a3d5701f2ed4d67a"
       ],
       "layout": "IPY_MODEL_9e930fe9d23d49eab003ae88e95f8bfa"
      }
     },
     "8df950efe57e45c9a3d5701f2ed4d67a": {
      "model_module": "@jupyter-widgets/controls",
      "model_module_version": "1.5.0",
      "model_name": "VBoxModel",
      "state": {
       "_dom_classes": [],
       "_model_module": "@jupyter-widgets/controls",
       "_model_module_version": "1.5.0",
       "_model_name": "VBoxModel",
       "_view_count": null,
       "_view_module": "@jupyter-widgets/controls",
       "_view_module_version": "1.5.0",
       "_view_name": "VBoxView",
       "box_style": "",
       "children": [
        "IPY_MODEL_4b434e226ad448bca296bbbf45f02a7a",
        "IPY_MODEL_49e4444e6c0f483f928e634139bc9f96"
       ],
       "layout": "IPY_MODEL_b4d6b94ebcea4e35a115e153317b4741"
      }
     },
     "9cc4e037fe134d00bd5cde008f133e44": {
      "model_module": "@jupyter-widgets/base",
      "model_module_version": "1.2.0",
      "model_name": "LayoutModel",
      "state": {
       "_model_module": "@jupyter-widgets/base",
       "_model_module_version": "1.2.0",
       "_model_name": "LayoutModel",
       "_view_count": null,
       "_view_module": "@jupyter-widgets/base",
       "_view_module_version": "1.2.0",
       "_view_name": "LayoutView",
       "align_content": null,
       "align_items": null,
       "align_self": null,
       "border": null,
       "bottom": null,
       "display": null,
       "flex": null,
       "flex_flow": null,
       "grid_area": null,
       "grid_auto_columns": null,
       "grid_auto_flow": null,
       "grid_auto_rows": null,
       "grid_column": null,
       "grid_gap": null,
       "grid_row": null,
       "grid_template_areas": null,
       "grid_template_columns": null,
       "grid_template_rows": null,
       "height": null,
       "justify_content": null,
       "justify_items": null,
       "left": null,
       "margin": null,
       "max_height": null,
       "max_width": null,
       "min_height": null,
       "min_width": null,
       "object_fit": null,
       "object_position": null,
       "order": null,
       "overflow": null,
       "overflow_x": null,
       "overflow_y": null,
       "padding": null,
       "right": null,
       "top": null,
       "visibility": null,
       "width": "90%"
      }
     },
     "9e930fe9d23d49eab003ae88e95f8bfa": {
      "model_module": "@jupyter-widgets/base",
      "model_module_version": "1.2.0",
      "model_name": "LayoutModel",
      "state": {
       "_model_module": "@jupyter-widgets/base",
       "_model_module_version": "1.2.0",
       "_model_name": "LayoutModel",
       "_view_count": null,
       "_view_module": "@jupyter-widgets/base",
       "_view_module_version": "1.2.0",
       "_view_name": "LayoutView",
       "align_content": null,
       "align_items": null,
       "align_self": null,
       "border": null,
       "bottom": null,
       "display": null,
       "flex": null,
       "flex_flow": null,
       "grid_area": null,
       "grid_auto_columns": null,
       "grid_auto_flow": null,
       "grid_auto_rows": null,
       "grid_column": null,
       "grid_gap": null,
       "grid_row": null,
       "grid_template_areas": null,
       "grid_template_columns": null,
       "grid_template_rows": null,
       "height": null,
       "justify_content": null,
       "justify_items": null,
       "left": null,
       "margin": null,
       "max_height": null,
       "max_width": null,
       "min_height": null,
       "min_width": null,
       "object_fit": null,
       "object_position": null,
       "order": null,
       "overflow": null,
       "overflow_x": null,
       "overflow_y": null,
       "padding": null,
       "right": null,
       "top": null,
       "visibility": null,
       "width": null
      }
     },
     "a4bbbdae59a3451ba8a3bd4aa2d6e50b": {
      "model_module": "@jupyter-widgets/base",
      "model_module_version": "1.2.0",
      "model_name": "LayoutModel",
      "state": {
       "_model_module": "@jupyter-widgets/base",
       "_model_module_version": "1.2.0",
       "_model_name": "LayoutModel",
       "_view_count": null,
       "_view_module": "@jupyter-widgets/base",
       "_view_module_version": "1.2.0",
       "_view_name": "LayoutView",
       "align_content": null,
       "align_items": null,
       "align_self": null,
       "border": null,
       "bottom": null,
       "display": null,
       "flex": null,
       "flex_flow": null,
       "grid_area": null,
       "grid_auto_columns": null,
       "grid_auto_flow": null,
       "grid_auto_rows": null,
       "grid_column": null,
       "grid_gap": null,
       "grid_row": null,
       "grid_template_areas": null,
       "grid_template_columns": null,
       "grid_template_rows": null,
       "height": null,
       "justify_content": null,
       "justify_items": null,
       "left": null,
       "margin": null,
       "max_height": null,
       "max_width": null,
       "min_height": null,
       "min_width": null,
       "object_fit": null,
       "object_position": null,
       "order": null,
       "overflow": null,
       "overflow_x": null,
       "overflow_y": null,
       "padding": null,
       "right": null,
       "top": null,
       "visibility": null,
       "width": null
      }
     },
     "acb9eb1b1275499fbadab8c24db759d3": {
      "model_module": "@jupyter-widgets/controls",
      "model_module_version": "1.5.0",
      "model_name": "IntTextModel",
      "state": {
       "_dom_classes": [],
       "_model_module": "@jupyter-widgets/controls",
       "_model_module_version": "1.5.0",
       "_model_name": "IntTextModel",
       "_view_count": null,
       "_view_module": "@jupyter-widgets/controls",
       "_view_module_version": "1.5.0",
       "_view_name": "IntTextView",
       "continuous_update": false,
       "description": "Any:",
       "description_tooltip": null,
       "disabled": false,
       "layout": "IPY_MODEL_67e5f4ab99764db98599c8cd62dffeac",
       "step": 1,
       "style": "IPY_MODEL_d16cc01545cc409d92c625e5a736bb87",
       "value": 5
      }
     },
     "b4d6b94ebcea4e35a115e153317b4741": {
      "model_module": "@jupyter-widgets/base",
      "model_module_version": "1.2.0",
      "model_name": "LayoutModel",
      "state": {
       "_model_module": "@jupyter-widgets/base",
       "_model_module_version": "1.2.0",
       "_model_name": "LayoutModel",
       "_view_count": null,
       "_view_module": "@jupyter-widgets/base",
       "_view_module_version": "1.2.0",
       "_view_name": "LayoutView",
       "align_content": null,
       "align_items": null,
       "align_self": null,
       "border": null,
       "bottom": null,
       "display": "none",
       "flex": null,
       "flex_flow": null,
       "grid_area": null,
       "grid_auto_columns": null,
       "grid_auto_flow": null,
       "grid_auto_rows": null,
       "grid_column": null,
       "grid_gap": null,
       "grid_row": null,
       "grid_template_areas": null,
       "grid_template_columns": null,
       "grid_template_rows": null,
       "height": null,
       "justify_content": null,
       "justify_items": null,
       "left": null,
       "margin": null,
       "max_height": null,
       "max_width": null,
       "min_height": null,
       "min_width": null,
       "object_fit": null,
       "object_position": null,
       "order": null,
       "overflow": null,
       "overflow_x": null,
       "overflow_y": null,
       "padding": null,
       "right": null,
       "top": null,
       "visibility": null,
       "width": null
      }
     },
     "be998699ca174eb4908decf9f4632de9": {
      "model_module": "@jupyter-widgets/base",
      "model_module_version": "1.2.0",
      "model_name": "LayoutModel",
      "state": {
       "_model_module": "@jupyter-widgets/base",
       "_model_module_version": "1.2.0",
       "_model_name": "LayoutModel",
       "_view_count": null,
       "_view_module": "@jupyter-widgets/base",
       "_view_module_version": "1.2.0",
       "_view_name": "LayoutView",
       "align_content": null,
       "align_items": null,
       "align_self": null,
       "border": null,
       "bottom": null,
       "display": null,
       "flex": null,
       "flex_flow": null,
       "grid_area": null,
       "grid_auto_columns": null,
       "grid_auto_flow": null,
       "grid_auto_rows": null,
       "grid_column": null,
       "grid_gap": null,
       "grid_row": null,
       "grid_template_areas": null,
       "grid_template_columns": null,
       "grid_template_rows": null,
       "height": null,
       "justify_content": null,
       "justify_items": null,
       "left": null,
       "margin": null,
       "max_height": null,
       "max_width": null,
       "min_height": null,
       "min_width": null,
       "object_fit": null,
       "object_position": null,
       "order": null,
       "overflow": null,
       "overflow_x": null,
       "overflow_y": null,
       "padding": null,
       "right": null,
       "top": null,
       "visibility": null,
       "width": null
      }
     },
     "d16cc01545cc409d92c625e5a736bb87": {
      "model_module": "@jupyter-widgets/controls",
      "model_module_version": "1.5.0",
      "model_name": "DescriptionStyleModel",
      "state": {
       "_model_module": "@jupyter-widgets/controls",
       "_model_module_version": "1.5.0",
       "_model_name": "DescriptionStyleModel",
       "_view_count": null,
       "_view_module": "@jupyter-widgets/base",
       "_view_module_version": "1.2.0",
       "_view_name": "StyleView",
       "description_width": ""
      }
     },
     "d7133e946d32477296018eb00c949d0d": {
      "model_module": "@jupyter-widgets/controls",
      "model_module_version": "1.5.0",
      "model_name": "ButtonStyleModel",
      "state": {
       "_model_module": "@jupyter-widgets/controls",
       "_model_module_version": "1.5.0",
       "_model_name": "ButtonStyleModel",
       "_view_count": null,
       "_view_module": "@jupyter-widgets/base",
       "_view_module_version": "1.2.0",
       "_view_name": "StyleView",
       "button_color": null,
       "font_weight": ""
      }
     },
     "fb6b089b8ba845b58e08f1b098dae637": {
      "model_module": "@jupyter-widgets/base",
      "model_module_version": "1.2.0",
      "model_name": "LayoutModel",
      "state": {
       "_model_module": "@jupyter-widgets/base",
       "_model_module_version": "1.2.0",
       "_model_name": "LayoutModel",
       "_view_count": null,
       "_view_module": "@jupyter-widgets/base",
       "_view_module_version": "1.2.0",
       "_view_name": "LayoutView",
       "align_content": null,
       "align_items": null,
       "align_self": null,
       "border": null,
       "bottom": null,
       "display": null,
       "flex": null,
       "flex_flow": null,
       "grid_area": null,
       "grid_auto_columns": null,
       "grid_auto_flow": null,
       "grid_auto_rows": null,
       "grid_column": null,
       "grid_gap": null,
       "grid_row": null,
       "grid_template_areas": null,
       "grid_template_columns": null,
       "grid_template_rows": null,
       "height": null,
       "justify_content": null,
       "justify_items": null,
       "left": null,
       "margin": null,
       "max_height": null,
       "max_width": null,
       "min_height": null,
       "min_width": null,
       "object_fit": null,
       "object_position": null,
       "order": null,
       "overflow": null,
       "overflow_x": null,
       "overflow_y": null,
       "padding": null,
       "right": null,
       "top": null,
       "visibility": null,
       "width": null
      }
     }
    },
    "version_major": 2,
    "version_minor": 0
   }
  }
 },
 "nbformat": 4,
 "nbformat_minor": 4
}
